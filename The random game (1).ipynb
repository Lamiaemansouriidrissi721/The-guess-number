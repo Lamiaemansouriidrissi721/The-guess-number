{
 "cells": [
  {
   "cell_type": "code",
   "execution_count": 24,
   "id": "602c1b30",
   "metadata": {},
   "outputs": [
    {
     "name": "stdout",
     "output_type": "stream",
     "text": [
      "\n",
      "\n",
      "\n",
      " _______           _______  _______  _______ _________ _        _______    _______  _______  _______  _______ \n",
      "(  ____ \\|\\     /|(  ____ \\(  ____ \\(  ____ \\__   __/( (    /|(  ____ \\  (  ____ \\(  ___  )(       )(  ____ | (    \\/| )   ( || (    \\/| (    \\/| (    \\/   ) (   |  \\  ( || (    \\/  | (    \\/| (   ) || () () || (    \\/\n",
      "| |      | |   | || (__    | (_____ | (_____    | |   |   \\ | || |        | |      | (___) || || || || (__    \n",
      "| | ____ | |   | ||  __)   (_____  )(_____  )   | |   | (\\ \\) || | ____   | | ____ |  ___  || |(_)| ||  __)   \n",
      "| | \\_  )| |   | || (            ) |      ) |   | |   | | \\   || | \\_  )  | | \\_  )| (   ) || |   | || (      \n",
      "| (___) || (___) || (____/\\/\\____) |/\\____) |___) (___| )  \\  || (___) |  | (___) || )   ( || )   ( || (____/(_______)(_______)(_______/\\_______)\\_______)\\_______/|/    )_)(_______)  (_______)|/     \\||/     \\|(_______/\n",
      "                                                                                                              \n",
      "\n",
      "\n",
      "\n",
      "Welcome to the Number Guessing game\n",
      "Hmm... I am thinking of a number between 1 and 100 .You have two choice , 5 guesses for easy and 10 attempts for hard mode\n",
      "Are you accepting the challenge choosing hard or you want to go  with eazy mode\n",
      "choose either easy or hardhard\n",
      "Enter your guess: 50\n",
      "Your guess is a bit higher. You have 4 attempts left. Try again.\n",
      "Enter your guess: 42\n",
      "Your guess is a bit higher. You have 3 attempts left. Try again.\n",
      "Enter your guess: 22\n",
      "Your guess is lower. You have 2 attempts left. Try again.\n",
      "Enter your guess: 33\n",
      "Your guess is a bit higher. You have 1 attempts left. Try again.\n",
      "Enter your guess: 24\n",
      "Your guess is lower. You have 0 attempts left. Try again.\n",
      "No more attempts left!, the right number was 27\n"
     ]
    }
   ],
   "source": [
    "logo= \"\"\"\n",
    "\n",
    "\n",
    " _______           _______  _______  _______ _________ _        _______    _______  _______  _______  _______ \n",
    "(  ____ \\|\\     /|(  ____ \\(  ____ \\(  ____ \\\\__   __/( (    /|(  ____ \\  (  ____ \\(  ___  )(       )(  ____ \\\n",
    "| (    \\/| )   ( || (    \\/| (    \\/| (    \\/   ) (   |  \\  ( || (    \\/  | (    \\/| (   ) || () () || (    \\/\n",
    "| |      | |   | || (__    | (_____ | (_____    | |   |   \\ | || |        | |      | (___) || || || || (__    \n",
    "| | ____ | |   | ||  __)   (_____  )(_____  )   | |   | (\\ \\) || | ____   | | ____ |  ___  || |(_)| ||  __)   \n",
    "| | \\_  )| |   | || (            ) |      ) |   | |   | | \\   || | \\_  )  | | \\_  )| (   ) || |   | || (      \n",
    "| (___) || (___) || (____/\\/\\____) |/\\____) |___) (___| )  \\  || (___) |  | (___) || )   ( || )   ( || (____/\\\n",
    "(_______)(_______)(_______/\\_______)\\_______)\\_______/|/    )_)(_______)  (_______)|/     \\||/     \\|(_______/\n",
    "                                                                                                              \n",
    "\n",
    "\n",
    "\"\"\"\n",
    "\n",
    "import random\n",
    "print(logo)\n",
    "#welcome message \n",
    "print(\"Welcome to the Number Guessing game\")\n",
    "print(\"Hmm... I am thinking of a number between 1 and 100 .You have two choice , 5 guesses for easy and 10 attempts for hard mode\")\n",
    "print(\"Are you accepting the challenge choosing hard or you want to go  with eazy mode\")\n",
    "user_choice=input(\"choose either easy or hard\")\n",
    "\n",
    "#game rules in which we base \n",
    "number=random.randint(1,100)\n",
    "# Check if the user_choice is not \"easy\" or \"hard\"\n",
    "\n",
    "def game_rules(user_choice, number):\n",
    "    attempts = 10 if user_choice == \"easy\" else 5 #attempts if the user chose hard then 5 attemepts  , easy 10 attempts\n",
    "    threshold = 2  #  how close a guess should be to be considered \"near\"\n",
    "    for i in range(attempts, 0, -1):\n",
    "        guess = int(input(\"Enter your guess: \"))\n",
    "        if guess > number:\n",
    "            print(f\"Your guess is a bit higher. You have {i - 1} attempts left. Try again.\")\n",
    "        elif guess < number:\n",
    "            if number - guess <= threshold: #notify  a user when  is too close to the number \n",
    "                print(f\"Your guess is lower, but very close! You have {i - 1} attempts left. Try again.\")\n",
    "            else:\n",
    "                print(f\"Your guess is lower. You have {i - 1} attempts left. Try again.\")\n",
    "        elif guess == number:\n",
    "            print(f\"OH, you got it right! {guess} is the right number\")\n",
    "            return  # Exit the function once the correct guess is made\n",
    "    print(f\"No more attempts left!, the right number was {number}\")\n",
    "\n",
    "game_rules(user_choice, number)\n"
   ]
  },
  {
   "cell_type": "code",
   "execution_count": null,
   "id": "65186674",
   "metadata": {},
   "outputs": [],
   "source": []
  },
  {
   "cell_type": "code",
   "execution_count": null,
   "id": "b1c95ede",
   "metadata": {},
   "outputs": [],
   "source": []
  }
 ],
 "metadata": {
  "kernelspec": {
   "display_name": "Python 3 (ipykernel)",
   "language": "python",
   "name": "python3"
  },
  "language_info": {
   "codemirror_mode": {
    "name": "ipython",
    "version": 3
   },
   "file_extension": ".py",
   "mimetype": "text/x-python",
   "name": "python",
   "nbconvert_exporter": "python",
   "pygments_lexer": "ipython3",
   "version": "3.11.7"
  }
 },
 "nbformat": 4,
 "nbformat_minor": 5
}
